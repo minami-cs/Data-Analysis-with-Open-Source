{
  "nbformat": 4,
  "nbformat_minor": 0,
  "metadata": {
    "colab": {
      "provenance": [],
      "include_colab_link": true
    },
    "kernelspec": {
      "name": "python3",
      "display_name": "Python 3"
    },
    "language_info": {
      "name": "python"
    }
  },
  "cells": [
    {
      "cell_type": "markdown",
      "metadata": {
        "id": "view-in-github",
        "colab_type": "text"
      },
      "source": [
        "<a href=\"https://colab.research.google.com/github/minami-cs/Data-Analysis-with-Open-Source/blob/main/%EC%98%A4%ED%94%88%EC%86%8C%EC%8A%A4_%EB%8D%B0%EC%9D%B4%ED%84%B0_%EB%B6%84%EC%84%9D_4%EA%B0%95.ipynb\" target=\"_parent\"><img src=\"https://colab.research.google.com/assets/colab-badge.svg\" alt=\"Open In Colab\"/></a>"
      ]
    },
    {
      "cell_type": "markdown",
      "source": [
        "\n",
        "\n",
        "# 오픈소스 기반 데이터 분석 4강 - 데이터 수집\n"
      ],
      "metadata": {
        "id": "DkPKaAsoRq5Q"
      }
    },
    {
      "cell_type": "markdown",
      "source": [
        "## 4-1 CSV 파일 읽기"
      ],
      "metadata": {
        "id": "-I7BVVlnRrB0"
      }
    },
    {
      "cell_type": "code",
      "source": [
        "import pandas as pd\n",
        "\n",
        "## data.csv 파일 읽기\n",
        "df = pd.read_csv('data.csv', encoding='utf-8', sep=',', header=0, index_col=None, skiprows=None, nrows=None)    # 다양한 옵션 추가 가\n",
        "\n",
        "print(df)"
      ],
      "metadata": {
        "id": "2Y2HEiaiRwAI",
        "colab": {
          "base_uri": "https://localhost:8080/"
        },
        "outputId": "a8c0b533-7ef5-4724-a1ba-33df9e6309a8"
      },
      "execution_count": 9,
      "outputs": [
        {
          "output_type": "stream",
          "name": "stdout",
          "text": [
            "           날짜    체중  골격근량  체지방량\n",
            "0  2025.02.06  64.7  30.0  11.1\n",
            "1  2025.02.04  64.0  29.3  11.6\n"
          ]
        }
      ]
    },
    {
      "cell_type": "markdown",
      "source": [
        "## 4-2 JSON 파일 읽기\n",
        "\n"
      ],
      "metadata": {
        "id": "9kHCFaGlRrE0"
      }
    },
    {
      "cell_type": "code",
      "source": [
        "import json\n",
        "import pandas as pd\n",
        "\n",
        "## data.json 파일 출력\n",
        "with open('data.json', mode='r', encoding='utf-8') as f:    # 파일을 읽을 때 모드 지정(r: 읽기read)\n",
        "    data = json.load(f)\n",
        "print(data)\n",
        "\n",
        "## data.json 파일 DataFrame 읽기\n",
        "df = pd.read_json('data.json', orient='records', encoding='utf-8', lines=False)\n",
        "# orient는 파일이 기록될 때 레코드 단위로 기록되므로 records\n",
        "# JSON 데이터 중에 각 줄이 하나의 JSON 객체로 이루어진 경우를 JSON lines라고 하고, 이때는 lines 옵션을 True로\n",
        "\n",
        "print(df)"
      ],
      "metadata": {
        "id": "IO8bsKekR0W_",
        "colab": {
          "base_uri": "https://localhost:8080/"
        },
        "outputId": "4d28f416-501d-462c-c9aa-d1a64d0ab4b7"
      },
      "execution_count": 18,
      "outputs": [
        {
          "output_type": "stream",
          "name": "stdout",
          "text": [
            "{'매출데이터': [{'월': '2025-01', '매출액': 1000000, '비용': 700000, '이익': 300000}, {'월': '2025-02', '매출액': 1200000, '비용': 800000, '이익': 400000}, {'월': '2025-03', '매출액': 1500000, '비용': 900000, '이익': 600000}]}\n",
            "                                               매출데이터\n",
            "0  {'월': '2025-01', '매출액': 1000000, '비용': 700000,...\n",
            "1  {'월': '2025-02', '매출액': 1200000, '비용': 800000,...\n",
            "2  {'월': '2025-03', '매출액': 1500000, '비용': 900000,...\n"
          ]
        }
      ]
    },
    {
      "cell_type": "markdown",
      "source": [
        "## 4-3 텍스트 파일 읽기 및 데이터 추출"
      ],
      "metadata": {
        "id": "uLd_3A_IRrHG"
      }
    },
    {
      "cell_type": "code",
      "source": [
        "import re\n",
        "\n",
        "## 파일(callcenter20250301.log) 오픈 및 읽기\n",
        "with open('callcenter20250301.log', 'r', encoding='utf-8') as f:\n",
        "    content = f.read()\n",
        "## 주민등록번호 패턴 생성\n",
        "# print(content)\n",
        "# 정규표현식 사용하기\n",
        "pattern = re.compile(r'(\\d{6})-(\\d{7})')   # 정규표현식은 r'패턴' 형식으로 작성, ()는 그룹핑\n",
        "## 주민등록번호 마스킹\n",
        "masked_content = pattern.sub(r'\\1-*******', content)    # 치환 함수 sub(치환결과, 치환대상)\n",
        "\n",
        "## 마스킹된 파일(callcenter20250301_masked.log) 오픈 및 쓰기\n",
        "with open('callcenter20250301_masked.log', mode='w') as f:\n",
        "    f.write(masked_content)\n",
        "\n",
        "print(\"주민등록번호 마스킹 완료. 'callcenter20250301_masked.log.txt' 파일로 저장되었습니다.\")\n",
        "\n",
        "with open('callcenter20250301_masked.log', 'r', encoding='utf-8') as f:\n",
        "    result = f.read()\n",
        "print(result)"
      ],
      "metadata": {
        "id": "60qOf7uxVdAg",
        "colab": {
          "base_uri": "https://localhost:8080/"
        },
        "outputId": "d46fb6f4-a595-467e-fffd-3ab7a7af54a0"
      },
      "execution_count": 28,
      "outputs": [
        {
          "output_type": "stream",
          "name": "stdout",
          "text": [
            "주민등록번호 마스킹 완료. 'callcenter20250301_masked.log.txt' 파일로 저장되었습니다.\n",
            "고객상담 내역 기록 - 2025년 3월 1일\n",
            "[09:15] 홍길동 고객(ID: K12345) 문의접수\n",
            "주문번호: ORDER-20250301-001\n",
            "연락처: 010-1234-5678\n",
            "주소: 서울시 강남구 테헤란로 123\n",
            "주민등록번호: 880412-*******\n",
            "문의내용: 주문한 상품의 배송 지연 문의\n",
            "[10:30] 김철수 고객(ID: K67890) 문의접수\n",
            "주문번호: ORDER-20250301-002\n",
            "연락처: 010-9876-5432\n",
            "주소: 부산시 해운대구 해운대로 456\n",
            "주민등록번호: 910725-*******\n",
            "문의내용: 제품 교환 요청\n",
            "[11:45] 이영희 고객(ID: K24680) 문의접수\n",
            "주문번호: ORDER-20250301-003\n",
            "연락처: 010-1357-2468\n",
            "주소: 대구시 수성구 수성로 789\n",
            "주민등록번호: 850608-*******\n",
            "문의내용: 포인트 적립 관련 문의\n",
            "[14:20] 박민준 고객(ID: K13579) 문의접수\n",
            "주문번호: ORDER-20250301-004\n",
            "연락처: 010-2468-1357\n",
            "주소: 인천시 연수구 컨벤시아대로 321\n",
            "주민등록번호: 930217-*******\n",
            "문의내용: 회원 정보 수정 요청\n",
            "[15:40] 정수연 고객(ID: K97531) 문의접수\n",
            "주문번호: ORDER-20250301-005\n",
            "연락처: 010-8642-9753\n",
            "주소: 광주시 서구 상무중앙로 654\n",
            "주민등록번호: 890503-*******\n",
            "문의내용: 결제 취소 요청\n",
            "\n"
          ]
        }
      ]
    },
    {
      "cell_type": "markdown",
      "source": [
        "## 4-4 Open-Meteo의 무료 날씨 API를 통한 특정 지역 온도 조회"
      ],
      "metadata": {
        "id": "eOMufu5SXiAU"
      }
    },
    {
      "cell_type": "code",
      "source": [
        "import requests\n",
        "import json\n",
        "\n",
        "url = \"https://api.open-meteo.com/v1/forecast?=&=&current=temperature_2m\"\n",
        "params = {\n",
        "    \"latitude\": \"37.58638333\",\n",
        "    \"longitude\": \"127.0203333\",\n",
        "    \"current\": \"temperature_2m\"\n",
        "}\n",
        "\n",
        "try:\n",
        "    ## URL 및 파라미터 전송\n",
        "    response = requests.get(url, params=params)\n",
        "    response.raise_for_status()  # 요청이 성공적이지 않으면 예외를 발생시킴\n",
        "\n",
        "    ## JSON 데이터 읽기\n",
        "    data = response.json()\n",
        "\n",
        "    print(\"API 응답:\", data)\n",
        "    print(\"서울시 종로구의 현재 온도는 : {0}{1} 입니다.\".format(data['current']['temperature_2m'], data['current_units']['temperature_2m']))\n",
        "\n",
        "except requests.exceptions.RequestException as e:\n",
        "    print(f\"API 호출 실패: {e}\")\n",
        "except json.JSONDecodeError as e:\n",
        "    print(f\"JSON 파싱 실패: {e}\")"
      ],
      "metadata": {
        "id": "JpmgdsW9V0CY",
        "colab": {
          "base_uri": "https://localhost:8080/"
        },
        "outputId": "ebe8f016-3f62-4ae7-ddfb-1defb5702dfc"
      },
      "execution_count": 30,
      "outputs": [
        {
          "output_type": "stream",
          "name": "stdout",
          "text": [
            "API 응답: {'latitude': 37.6, 'longitude': 127.0, 'generationtime_ms': 0.02288818359375, 'utc_offset_seconds': 0, 'timezone': 'GMT', 'timezone_abbreviation': 'GMT', 'elevation': 29.0, 'current_units': {'time': 'iso8601', 'interval': 'seconds', 'temperature_2m': '°C'}, 'current': {'time': '2025-09-15T13:15', 'interval': 900, 'temperature_2m': 22.6}}\n",
            "서울시 종로구의 현재 온도는 : 22.6°C 입니다.\n"
          ]
        }
      ]
    },
    {
      "cell_type": "markdown",
      "source": [
        "## 4-5 Selenium과 lxml을 이용한 웹 스크래핑"
      ],
      "metadata": {
        "id": "RLfPaa1ZiqIC"
      }
    },
    {
      "cell_type": "code",
      "source": [
        "!curl -o google-chrome-stable_current_amd64.deb https://dl.google.com/linux/direct/google-chrome-stable_current_amd64.deb\n",
        "!apt install ./google-chrome-stable_current_amd64.deb -y\n",
        "!pip install selenium webdriver_manager"
      ],
      "metadata": {
        "id": "79dmM7MNk8pB",
        "colab": {
          "base_uri": "https://localhost:8080/",
          "height": 1000
        },
        "outputId": "e4bf0150-26fb-4fd5-d588-22d809b428b7"
      },
      "execution_count": 31,
      "outputs": [
        {
          "output_type": "stream",
          "name": "stdout",
          "text": [
            "  % Total    % Received % Xferd  Average Speed   Time    Time     Time  Current\n",
            "                                 Dload  Upload   Total   Spent    Left  Speed\n",
            "100  115M  100  115M    0     0   240M      0 --:--:-- --:--:-- --:--:--  240M\n",
            "Reading package lists... Done\n",
            "Building dependency tree... Done\n",
            "Reading state information... Done\n",
            "Note, selecting 'google-chrome-stable' instead of './google-chrome-stable_current_amd64.deb'\n",
            "The following additional packages will be installed:\n",
            "  libvulkan1 mesa-vulkan-drivers\n",
            "The following NEW packages will be installed:\n",
            "  google-chrome-stable libvulkan1 mesa-vulkan-drivers\n",
            "0 upgraded, 3 newly installed, 0 to remove and 35 not upgraded.\n",
            "Need to get 10.9 MB/131 MB of archives.\n",
            "After this operation, 447 MB of additional disk space will be used.\n",
            "Get:1 http://archive.ubuntu.com/ubuntu jammy/main amd64 libvulkan1 amd64 1.3.204.1-2 [128 kB]\n",
            "Get:2 http://archive.ubuntu.com/ubuntu jammy-updates/main amd64 mesa-vulkan-drivers amd64 23.2.1-1ubuntu3.1~22.04.3 [10.7 MB]\n",
            "Get:3 /content/google-chrome-stable_current_amd64.deb google-chrome-stable amd64 140.0.7339.127-1 [121 MB]\n",
            "Fetched 10.9 MB in 2s (5,841 kB/s)\n",
            "Selecting previously unselected package libvulkan1:amd64.\n",
            "(Reading database ... 126374 files and directories currently installed.)\n",
            "Preparing to unpack .../libvulkan1_1.3.204.1-2_amd64.deb ...\n",
            "Unpacking libvulkan1:amd64 (1.3.204.1-2) ...\n",
            "Selecting previously unselected package google-chrome-stable.\n",
            "Preparing to unpack .../google-chrome-stable_current_amd64.deb ...\n",
            "Unpacking google-chrome-stable (140.0.7339.127-1) ...\n",
            "Selecting previously unselected package mesa-vulkan-drivers:amd64.\n",
            "Preparing to unpack .../mesa-vulkan-drivers_23.2.1-1ubuntu3.1~22.04.3_amd64.deb ...\n",
            "Unpacking mesa-vulkan-drivers:amd64 (23.2.1-1ubuntu3.1~22.04.3) ...\n",
            "Setting up libvulkan1:amd64 (1.3.204.1-2) ...\n",
            "Setting up mesa-vulkan-drivers:amd64 (23.2.1-1ubuntu3.1~22.04.3) ...\n",
            "Setting up google-chrome-stable (140.0.7339.127-1) ...\n",
            "update-alternatives: using /usr/bin/google-chrome-stable to provide /usr/bin/x-www-browser (x-www-browser) in auto mode\n",
            "update-alternatives: using /usr/bin/google-chrome-stable to provide /usr/bin/gnome-www-browser (gnome-www-browser) in auto mode\n",
            "update-alternatives: using /usr/bin/google-chrome-stable to provide /usr/bin/google-chrome (google-chrome) in auto mode\n",
            "Processing triggers for man-db (2.10.2-1) ...\n",
            "Processing triggers for mailcap (3.70+nmu1ubuntu1) ...\n",
            "Processing triggers for libc-bin (2.35-0ubuntu3.8) ...\n",
            "/sbin/ldconfig.real: /usr/local/lib/libur_loader.so.0 is not a symbolic link\n",
            "\n",
            "/sbin/ldconfig.real: /usr/local/lib/libur_adapter_opencl.so.0 is not a symbolic link\n",
            "\n",
            "/sbin/ldconfig.real: /usr/local/lib/libtcm.so.1 is not a symbolic link\n",
            "\n",
            "/sbin/ldconfig.real: /usr/local/lib/libur_adapter_level_zero.so.0 is not a symbolic link\n",
            "\n",
            "/sbin/ldconfig.real: /usr/local/lib/libumf.so.0 is not a symbolic link\n",
            "\n",
            "/sbin/ldconfig.real: /usr/local/lib/libtcm_debug.so.1 is not a symbolic link\n",
            "\n",
            "/sbin/ldconfig.real: /usr/local/lib/libtbbbind_2_0.so.3 is not a symbolic link\n",
            "\n",
            "/sbin/ldconfig.real: /usr/local/lib/libur_adapter_level_zero_v2.so.0 is not a symbolic link\n",
            "\n",
            "/sbin/ldconfig.real: /usr/local/lib/libtbbmalloc.so.2 is not a symbolic link\n",
            "\n",
            "/sbin/ldconfig.real: /usr/local/lib/libtbbbind.so.3 is not a symbolic link\n",
            "\n",
            "/sbin/ldconfig.real: /usr/local/lib/libtbb.so.12 is not a symbolic link\n",
            "\n",
            "/sbin/ldconfig.real: /usr/local/lib/libtbbmalloc_proxy.so.2 is not a symbolic link\n",
            "\n",
            "/sbin/ldconfig.real: /usr/local/lib/libtbbbind_2_5.so.3 is not a symbolic link\n",
            "\n",
            "/sbin/ldconfig.real: /usr/local/lib/libhwloc.so.15 is not a symbolic link\n",
            "\n",
            "Collecting selenium\n",
            "  Downloading selenium-4.35.0-py3-none-any.whl.metadata (7.4 kB)\n",
            "Collecting webdriver_manager\n",
            "  Downloading webdriver_manager-4.0.2-py2.py3-none-any.whl.metadata (12 kB)\n",
            "Requirement already satisfied: urllib3<3.0,>=2.5.0 in /usr/local/lib/python3.12/dist-packages (from urllib3[socks]<3.0,>=2.5.0->selenium) (2.5.0)\n",
            "Collecting trio~=0.30.0 (from selenium)\n",
            "  Downloading trio-0.30.0-py3-none-any.whl.metadata (8.5 kB)\n",
            "Collecting trio-websocket~=0.12.2 (from selenium)\n",
            "  Downloading trio_websocket-0.12.2-py3-none-any.whl.metadata (5.1 kB)\n",
            "Requirement already satisfied: certifi>=2025.6.15 in /usr/local/lib/python3.12/dist-packages (from selenium) (2025.8.3)\n",
            "Collecting typing_extensions~=4.14.0 (from selenium)\n",
            "  Downloading typing_extensions-4.14.1-py3-none-any.whl.metadata (3.0 kB)\n",
            "Requirement already satisfied: websocket-client~=1.8.0 in /usr/local/lib/python3.12/dist-packages (from selenium) (1.8.0)\n",
            "Requirement already satisfied: requests in /usr/local/lib/python3.12/dist-packages (from webdriver_manager) (2.32.4)\n",
            "Requirement already satisfied: python-dotenv in /usr/local/lib/python3.12/dist-packages (from webdriver_manager) (1.1.1)\n",
            "Requirement already satisfied: packaging in /usr/local/lib/python3.12/dist-packages (from webdriver_manager) (25.0)\n",
            "Requirement already satisfied: attrs>=23.2.0 in /usr/local/lib/python3.12/dist-packages (from trio~=0.30.0->selenium) (25.3.0)\n",
            "Requirement already satisfied: sortedcontainers in /usr/local/lib/python3.12/dist-packages (from trio~=0.30.0->selenium) (2.4.0)\n",
            "Requirement already satisfied: idna in /usr/local/lib/python3.12/dist-packages (from trio~=0.30.0->selenium) (3.10)\n",
            "Collecting outcome (from trio~=0.30.0->selenium)\n",
            "  Downloading outcome-1.3.0.post0-py2.py3-none-any.whl.metadata (2.6 kB)\n",
            "Requirement already satisfied: sniffio>=1.3.0 in /usr/local/lib/python3.12/dist-packages (from trio~=0.30.0->selenium) (1.3.1)\n",
            "Collecting wsproto>=0.14 (from trio-websocket~=0.12.2->selenium)\n",
            "  Downloading wsproto-1.2.0-py3-none-any.whl.metadata (5.6 kB)\n",
            "Requirement already satisfied: pysocks!=1.5.7,<2.0,>=1.5.6 in /usr/local/lib/python3.12/dist-packages (from urllib3[socks]<3.0,>=2.5.0->selenium) (1.7.1)\n",
            "Requirement already satisfied: charset_normalizer<4,>=2 in /usr/local/lib/python3.12/dist-packages (from requests->webdriver_manager) (3.4.3)\n",
            "Requirement already satisfied: h11<1,>=0.9.0 in /usr/local/lib/python3.12/dist-packages (from wsproto>=0.14->trio-websocket~=0.12.2->selenium) (0.16.0)\n",
            "Downloading selenium-4.35.0-py3-none-any.whl (9.6 MB)\n",
            "\u001b[2K   \u001b[90m━━━━━━━━━━━━━━━━━━━━━━━━━━━━━━━━━━━━━━━━\u001b[0m \u001b[32m9.6/9.6 MB\u001b[0m \u001b[31m52.5 MB/s\u001b[0m eta \u001b[36m0:00:00\u001b[0m\n",
            "\u001b[?25hDownloading webdriver_manager-4.0.2-py2.py3-none-any.whl (27 kB)\n",
            "Downloading trio-0.30.0-py3-none-any.whl (499 kB)\n",
            "\u001b[2K   \u001b[90m━━━━━━━━━━━━━━━━━━━━━━━━━━━━━━━━━━━━━━━━\u001b[0m \u001b[32m499.2/499.2 kB\u001b[0m \u001b[31m28.6 MB/s\u001b[0m eta \u001b[36m0:00:00\u001b[0m\n",
            "\u001b[?25hDownloading trio_websocket-0.12.2-py3-none-any.whl (21 kB)\n",
            "Downloading typing_extensions-4.14.1-py3-none-any.whl (43 kB)\n",
            "\u001b[2K   \u001b[90m━━━━━━━━━━━━━━━━━━━━━━━━━━━━━━━━━━━━━━━━\u001b[0m \u001b[32m43.9/43.9 kB\u001b[0m \u001b[31m2.7 MB/s\u001b[0m eta \u001b[36m0:00:00\u001b[0m\n",
            "\u001b[?25hDownloading outcome-1.3.0.post0-py2.py3-none-any.whl (10 kB)\n",
            "Downloading wsproto-1.2.0-py3-none-any.whl (24 kB)\n",
            "Installing collected packages: wsproto, typing_extensions, outcome, webdriver_manager, trio, trio-websocket, selenium\n",
            "  Attempting uninstall: typing_extensions\n",
            "    Found existing installation: typing_extensions 4.15.0\n",
            "    Uninstalling typing_extensions-4.15.0:\n",
            "      Successfully uninstalled typing_extensions-4.15.0\n",
            "Successfully installed outcome-1.3.0.post0 selenium-4.35.0 trio-0.30.0 trio-websocket-0.12.2 typing_extensions-4.14.1 webdriver_manager-4.0.2 wsproto-1.2.0\n"
          ]
        },
        {
          "output_type": "display_data",
          "data": {
            "application/vnd.colab-display-data+json": {
              "pip_warning": {
                "packages": [
                  "typing_extensions"
                ]
              },
              "id": "e7633dd94e1a4fba9bee60bfc30bdaaf"
            }
          },
          "metadata": {}
        }
      ]
    },
    {
      "cell_type": "code",
      "source": [
        "from selenium import webdriver\n",
        "from selenium.webdriver.chrome.service import Service as ChromeService\n",
        "from webdriver_manager.chrome import ChromeDriverManager\n",
        "from selenium.webdriver.common.by import By\n",
        "from lxml import html\n",
        "import time\n",
        "\n",
        "chrome_options = webdriver.ChromeOptions()\n",
        "chrome_options.add_argument('--headless')               # 브라우저 창 없이 실행\n",
        "chrome_options.add_argument('--no-sandbox')             # 보안모드 비활성화 (Colab 필수)\n",
        "chrome_options.add_argument('--disable-dev-shm-usage')  # 메모리 부족 방지 (Colab 필수)\n",
        "chrome_options.add_argument('--window-size=1920x1080')  # 창 크기 설정(가상)\n",
        "chrome_options.add_argument('--disable-gpu')            # GPU 가속 비활성화 (일부 환경 안정성)\n",
        "chrome_options.binary_location = \"/usr/bin/google-chrome-stable\"  # Colab용 크롬 경로 지정\n",
        "\n",
        "## 드라이버 실행\n",
        "driver = webdriver.Chrome(options=chrome_options)\n",
        "\n",
        "## 사이트 접속\n",
        "# 아래 학교 교수 사이트는 과도한 트래픽 방지를 위해 차단됨\n",
        "# url = 'https://professor.knou.ac.kr/jaehwachung/index.do'\n",
        "url = 'https://github.com/jaehwachung/Data-Analysis-with-Open-Source'\n",
        "driver.get(url)\n",
        "\n",
        "\n",
        "## 사이트 접속 대기\n",
        "time.sleep(2)   # 사이트 접속 후 데이터 로딩을 기다려주지 않으면 데이터를 불러오지 못할 수 있음\n",
        "\n",
        "## 페이지 제목 출력\n",
        "page_source = driver.page_source\n",
        "tree = html.fromstring(page_source) # 사이트 페이지를 html로 받아옴\n",
        "\n",
        "title_text = tree.xpath('//title/text()')   # root부터 탐색해서 title 요소를 찾아 텍스트 추출\n",
        "print(title_text)\n",
        "\n",
        "## 드라이버 종료\n",
        "driver.quit()"
      ],
      "metadata": {
        "id": "cRC8x3_iW0im",
        "colab": {
          "base_uri": "https://localhost:8080/"
        },
        "outputId": "0cb27772-0232-4c91-86af-cd09289abe8a"
      },
      "execution_count": 3,
      "outputs": [
        {
          "output_type": "stream",
          "name": "stdout",
          "text": [
            "['GitHub - jaehwachung/Data-Analysis-with-Open-Source: Data Analysis with Open Source']\n"
          ]
        }
      ]
    },
    {
      "cell_type": "markdown",
      "source": [
        "\n",
        "# 실습 시나리오"
      ],
      "metadata": {
        "id": "Bu6OMZyGirOq"
      }
    },
    {
      "cell_type": "markdown",
      "source": [
        "## 공공데이터 포털 가입 및 데이터 신청\n",
        "\n",
        "- [https://www.data.go.kr](https://www.data.go.kr)\n",
        "- 한국환경공단 에어코리아 대기오염정보 데이터 신청"
      ],
      "metadata": {
        "id": "nsuqRN9RkZlW"
      }
    },
    {
      "cell_type": "code",
      "source": [
        "import requests\n",
        "\n",
        "## 데이터 수집 url 및 api key 설정\n",
        "url = 'http://apis.data.go.kr/B552584/ArpltnInforInqireSvc/getMinuDustFrcstDspth'\n",
        "api_key = ''\n",
        "\n",
        "\n",
        "params = {\n",
        "    'serviceKey': api_key,\n",
        "    'returnType': 'json',\n",
        "    'numOfRows': '100',\n",
        "    'pageNo': '1',\n",
        "    'sidoName': '서울',\n",
        "    'ver': '1.0'\n",
        "}\n",
        "\n",
        "## 데이터 수집\n",
        "response = requests.get(url, params=params)\n",
        "\n",
        "## 호출 성공/실패 출력\n",
        "print(response.json())\n"
      ],
      "metadata": {
        "id": "7yCozmQeXJcO",
        "colab": {
          "base_uri": "https://localhost:8080/"
        },
        "outputId": "8d89c02e-0abf-48c3-b21b-e3dfaf77576e"
      },
      "execution_count": 6,
      "outputs": [
        {
          "output_type": "stream",
          "name": "stdout",
          "text": [
            "{'response': {'body': {'totalCount': 860, 'items': [{'informCode': 'O3', 'dataTime': '2025-09-15'}, {'informCode': 'PM25', 'dataTime': '2025-09-15'}, {'informCode': 'PM10', 'dataTime': '2025-09-15'}, {'informCode': 'PM10', 'dataTime': '2025-09-15'}, {'informCode': 'PM25', 'dataTime': '2025-09-15'}, {'informCode': 'PM25', 'dataTime': '2025-09-15'}, {'informCode': 'O3', 'dataTime': '2025-09-15'}, {'informCode': 'O3', 'dataTime': '2025-09-15'}, {'informCode': 'PM10', 'dataTime': '2025-09-15'}, {'informCode': 'PM10', 'dataTime': '2025-09-15'}, {'informCode': 'PM25', 'dataTime': '2025-09-15'}, {'informCode': 'PM25', 'dataTime': '2025-09-15'}, {'informCode': 'O3', 'dataTime': '2025-09-15'}, {'informCode': 'O3', 'dataTime': '2025-09-15'}, {'informCode': 'PM10', 'dataTime': '2025-09-15'}, {'informCode': 'PM10', 'dataTime': '2025-09-15'}, {'informCode': 'PM10', 'dataTime': '2025-09-15'}, {'informCode': 'PM25', 'dataTime': '2025-09-15'}, {'informCode': 'PM25', 'dataTime': '2025-09-15'}, {'informCode': 'O3', 'dataTime': '2025-09-15'}, {'informCode': 'O3', 'dataTime': '2025-09-14'}, {'informCode': 'PM25', 'dataTime': '2025-09-14'}, {'informCode': 'PM10', 'dataTime': '2025-09-14'}, {'informCode': 'PM10', 'dataTime': '2025-09-14'}, {'informCode': 'PM25', 'dataTime': '2025-09-14'}, {'informCode': 'PM25', 'dataTime': '2025-09-14'}, {'informCode': 'O3', 'dataTime': '2025-09-14'}, {'informCode': 'O3', 'dataTime': '2025-09-14'}, {'informCode': 'PM10', 'dataTime': '2025-09-14'}, {'informCode': 'PM10', 'dataTime': '2025-09-14'}, {'informCode': 'PM25', 'dataTime': '2025-09-14'}, {'informCode': 'PM25', 'dataTime': '2025-09-14'}, {'informCode': 'O3', 'dataTime': '2025-09-14'}, {'informCode': 'O3', 'dataTime': '2025-09-14'}, {'informCode': 'PM10', 'dataTime': '2025-09-14'}, {'informCode': 'PM10', 'dataTime': '2025-09-14'}, {'informCode': 'PM10', 'dataTime': '2025-09-14'}, {'informCode': 'PM25', 'dataTime': '2025-09-14'}, {'informCode': 'PM25', 'dataTime': '2025-09-14'}, {'informCode': 'PM25', 'dataTime': '2025-09-14'}, {'informCode': 'O3', 'dataTime': '2025-09-14'}, {'informCode': 'O3', 'dataTime': '2025-09-14'}, {'informCode': 'PM10', 'dataTime': '2025-09-14'}, {'informCode': 'PM10', 'dataTime': '2025-09-14'}, {'informCode': 'PM10', 'dataTime': '2025-09-14'}, {'informCode': 'PM25', 'dataTime': '2025-09-14'}, {'informCode': 'PM25', 'dataTime': '2025-09-14'}, {'informCode': 'O3', 'dataTime': '2025-09-14'}, {'informCode': 'O3', 'dataTime': '2025-09-13'}, {'informCode': 'PM25', 'dataTime': '2025-09-13'}, {'informCode': 'PM10', 'dataTime': '2025-09-13'}, {'informCode': 'PM10', 'dataTime': '2025-09-13'}, {'informCode': 'PM25', 'dataTime': '2025-09-13'}, {'informCode': 'PM25', 'dataTime': '2025-09-13'}, {'informCode': 'O3', 'dataTime': '2025-09-13'}, {'informCode': 'O3', 'dataTime': '2025-09-13'}, {'informCode': 'PM10', 'dataTime': '2025-09-13'}, {'informCode': 'PM10', 'dataTime': '2025-09-13'}, {'informCode': 'PM25', 'dataTime': '2025-09-13'}, {'informCode': 'PM25', 'dataTime': '2025-09-13'}, {'informCode': 'O3', 'dataTime': '2025-09-13'}, {'informCode': 'O3', 'dataTime': '2025-09-13'}, {'informCode': 'PM10', 'dataTime': '2025-09-13'}, {'informCode': 'PM10', 'dataTime': '2025-09-13'}, {'informCode': 'PM10', 'dataTime': '2025-09-13'}, {'informCode': 'PM25', 'dataTime': '2025-09-13'}, {'informCode': 'PM25', 'dataTime': '2025-09-13'}, {'informCode': 'PM25', 'dataTime': '2025-09-13'}, {'informCode': 'O3', 'dataTime': '2025-09-13'}, {'informCode': 'O3', 'dataTime': '2025-09-13'}, {'informCode': 'PM10', 'dataTime': '2025-09-13'}, {'informCode': 'PM10', 'dataTime': '2025-09-13'}, {'informCode': 'PM10', 'dataTime': '2025-09-13'}, {'informCode': 'PM25', 'dataTime': '2025-09-13'}, {'informCode': 'PM25', 'dataTime': '2025-09-13'}, {'informCode': 'O3', 'dataTime': '2025-09-13'}, {'informCode': 'O3', 'dataTime': '2025-09-12'}, {'informCode': 'O3', 'dataTime': '2025-09-12'}, {'informCode': 'PM10', 'dataTime': '2025-09-12'}, {'informCode': 'PM10', 'dataTime': '2025-09-12'}, {'informCode': 'PM10', 'dataTime': '2025-09-12'}, {'informCode': 'PM25', 'dataTime': '2025-09-12'}, {'informCode': 'PM25', 'dataTime': '2025-09-12'}, {'informCode': 'PM25', 'dataTime': '2025-09-12'}, {'informCode': 'O3', 'dataTime': '2025-09-12'}, {'informCode': 'O3', 'dataTime': '2025-09-12'}, {'informCode': 'PM10', 'dataTime': '2025-09-12'}, {'informCode': 'PM10', 'dataTime': '2025-09-12'}, {'informCode': 'PM25', 'dataTime': '2025-09-12'}, {'informCode': 'PM25', 'dataTime': '2025-09-12'}, {'informCode': 'O3', 'dataTime': '2025-09-12'}, {'informCode': 'O3', 'dataTime': '2025-09-12'}, {'informCode': 'PM10', 'dataTime': '2025-09-12'}, {'informCode': 'PM10', 'dataTime': '2025-09-12'}, {'informCode': 'PM25', 'dataTime': '2025-09-12'}, {'informCode': 'PM25', 'dataTime': '2025-09-12'}, {'informCode': 'O3', 'dataTime': '2025-09-12'}, {'informCode': 'O3', 'dataTime': '2025-09-12'}, {'informCode': 'PM10', 'dataTime': '2025-09-12'}, {'informCode': 'PM10', 'dataTime': '2025-09-12'}], 'pageNo': 1, 'numOfRows': 100}, 'header': {'resultMsg': 'NORMAL_CODE', 'resultCode': '00'}}}\n"
          ]
        }
      ]
    }
  ]
}